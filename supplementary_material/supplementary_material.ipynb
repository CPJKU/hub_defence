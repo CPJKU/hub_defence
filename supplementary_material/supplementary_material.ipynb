{
 "cells": [
  {
   "cell_type": "markdown",
   "metadata": {},
   "source": [
    "This is additional material containing listening examples for the SMC 2022 Scientific-Track Paper,\n",
    "\n",
    "\"Defending a Music Recommender Against Hubness-Based Adversarial Attacks\".\n",
    "\n",
    "Authors: Katharina Hoedt, Arthur Flexer, Gerhard Widmer. Institute of Computational Perception, Johannes Kepler University Linz, Austria.\n"
   ]
  },
  {
   "cell_type": "markdown",
   "metadata": {},
   "source": [
    "<a name=\"1\"></a>\n",
    "# Listening Examples\n",
    "\n",
    "These listening examples should show 'good' as well as 'bad' examples in terms of the perceptibility \n",
    "of perturbations obtained via different attacks. The SNR (in dB) for each of the adversaries is stated\n",
    "above the listening example.\n",
    "\n",
    "**Note: Make sure to start with low volume!**\n"
   ]
  },
  {
   "cell_type": "markdown",
   "metadata": {
    "pycharm": {
     "name": "#%% md\n"
    }
   },
   "source": [
    "### Original attack\n",
    "<table>\n",
    "  <tr>\n",
    "    <th style=\"text-align:center\">Clean</th>\n",
    "    <th style=\"text-align:center\">Attacked</th>\n",
    "  </tr>\n",
    "\n",
    "  <tr>\n",
    "    <td><p style=\"text-align:center\">--</p>\n",
    "        <p><audio controls src=\"audio/clean_orig_good.wav\"></audio></p></td>\n",
    "    <td><p style=\"text-align:center\">50.6dB</p>\n",
    "        <p><audio controls src=\"audio/clean_good.wav\"></audio></p></td>\n",
    "  </tr>\n",
    "\n",
    "  <tr>\n",
    "    <td><p style=\"text-align:center\">--</p>\n",
    "        <p><audio controls src=\"audio/clean_orig_bad.wav\"></audio></p></td>\n",
    "    <td><p style=\"text-align:center\">32.7dB</p>\n",
    "        <p><audio controls src=\"audio/clean_bad.wav\"></audio></p></td>\n",
    "  </tr>\n",
    "\n",
    "</table>"
   ]
  },
  {
   "cell_type": "markdown",
   "metadata": {},
   "source": [
    "### KL (I)\n",
    "<table>\n",
    "  <tr>\n",
    "    <th style=\"text-align:center\">Clean</th>\n",
    "    <th style=\"text-align:center\">Attacked</th>\n",
    "  </tr>\n",
    "\n",
    "  <tr>\n",
    "    <td><p style=\"text-align:center\">--</p>\n",
    "        <p><audio controls src=\"audio/kl_orig_good.wav\"></audio></p></td>\n",
    "    <td><p style=\"text-align:center\">42.5dB</p>\n",
    "        <p><audio controls src=\"audio/kl_good.wav\"></audio></p></td>\n",
    "  </tr>\n",
    "\n",
    "  <tr>\n",
    "    <td><p style=\"text-align:center\">--</p>\n",
    "        <p><audio controls src=\"audio/kl_orig_bad.wav\"></audio></p></td>\n",
    "    <td><p style=\"text-align:center\">28.2dB</p>\n",
    "        <p><audio controls src=\"audio/kl_bad.wav\"></audio></p></td>\n",
    "  </tr>\n",
    "</table>"
   ]
  },
  {
   "cell_type": "markdown",
   "metadata": {},
   "source": [
    "### MP$_{1}$ (II)\n",
    "<table>\n",
    "  <tr>\n",
    "    <th style=\"text-align:center\">Clean</th>\n",
    "    <th style=\"text-align:center\">Attacked</th>\n",
    "  </tr>\n",
    "    \n",
    "  <tr>\n",
    "    <td><p style=\"text-align:center\">--</p>\n",
    "        <p><audio controls src=\"audio/mp1_orig_good.wav\"></audio></p></td>\n",
    "    <td><p style=\"text-align:center\">46.4dB</p>\n",
    "        <p><audio controls src=\"audio/mp1_good.wav\"></audio></p></td>\n",
    "  </tr>\n",
    "\n",
    "  <tr>\n",
    "    <td><p style=\"text-align:center\">--</p>\n",
    "        <p><audio controls src=\"audio/mp1_orig_bad.wav\"></audio></p></td>\n",
    "    <td><p style=\"text-align:center\">40.1dB</p>\n",
    "        <p><audio controls src=\"audio/mp1_bad.wav\"></audio></p></td>\n",
    "  </tr>\n",
    "\n",
    "</table>"
   ]
  },
  {
   "cell_type": "markdown",
   "metadata": {},
   "source": [
    "### MP$_{2}$ (II)\n",
    "<table>\n",
    "  <tr>\n",
    "    <th style=\"text-align:center\">Clean</th>\n",
    "    <th style=\"text-align:center\">Attacked</th>\n",
    "  </tr>\n",
    "\n",
    "  <tr>\n",
    "    <td><p style=\"text-align:center\">--</p>\n",
    "        <p><audio controls src=\"audio/mp2_orig_good.wav\"></audio></p></td>\n",
    "    <td><p style=\"text-align:center\">40.0dB</p>\n",
    "        <p><audio controls src=\"audio/mp2_good.wav\"></audio></p></td>\n",
    "  </tr>\n",
    "\n",
    "  <tr>\n",
    "    <td><p style=\"text-align:center\">--</p>\n",
    "        <p><audio controls src=\"audio/mp2_orig_bad.wav\"></audio></p></td>\n",
    "    <td><p style=\"text-align:center\">0.2dB</p>\n",
    "        <p><audio controls src=\"audio/mp2_bad.wav\"></audio></p></td>\n",
    "  </tr>\n",
    "\n",
    "</table>\n",
    "\n"
   ]
  }
 ],
 "metadata": {
  "kernelspec": {
   "display_name": "Python 3",
   "language": "python",
   "name": "python3"
  },
  "language_info": {
   "codemirror_mode": {
    "name": "ipython",
    "version": 3
   },
   "file_extension": ".py",
   "mimetype": "text/x-python",
   "name": "python",
   "nbconvert_exporter": "python",
   "pygments_lexer": "ipython3",
   "version": "3.8.3"
  }
 },
 "nbformat": 4,
 "nbformat_minor": 4
}
